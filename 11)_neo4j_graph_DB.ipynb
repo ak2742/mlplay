{
  "nbformat": 4,
  "nbformat_minor": 0,
  "metadata": {
    "colab": {
      "private_outputs": true,
      "provenance": [],
      "authorship_tag": "ABX9TyP/CTNB0at0WuXxGx+8CoUm",
      "include_colab_link": true
    },
    "kernelspec": {
      "name": "python3",
      "display_name": "Python 3"
    },
    "language_info": {
      "name": "python"
    }
  },
  "cells": [
    {
      "cell_type": "markdown",
      "metadata": {
        "id": "view-in-github",
        "colab_type": "text"
      },
      "source": [
        "<a href=\"https://colab.research.google.com/github/ak2742/mlplay/blob/Fine-Tuning/11)_neo4j_graph_DB.ipynb\" target=\"_parent\"><img src=\"https://colab.research.google.com/assets/colab-badge.svg\" alt=\"Open In Colab\"/></a>"
      ]
    },
    {
      "cell_type": "code",
      "execution_count": null,
      "metadata": {
        "id": "EBM1BrNvj4j9"
      },
      "outputs": [],
      "source": [
        "#@title Install libraries\n",
        "\n",
        "!pip install -q langchain==0.2.1 langchain_community\n",
        "!pip install -q google-generativeai langchain-google-genai\n",
        "\n",
        "!pip install -q neo4j\n",
        "!pip install -q gradio"
      ]
    },
    {
      "cell_type": "code",
      "source": [
        "#@title Create llm\n",
        "\n",
        "from google.colab import userdata\n",
        "from langchain_google_genai import ChatGoogleGenerativeAI\n",
        "\n",
        "GOOGLE_API_KEY = userdata.get('GEMINI_KEY')\n",
        "\n",
        "llm = ChatGoogleGenerativeAI(model=\"gemini-pro\", google_api_key=GOOGLE_API_KEY, convert_system_message_to_human=True)"
      ],
      "metadata": {
        "id": "LnbB72dVli-9"
      },
      "execution_count": null,
      "outputs": []
    },
    {
      "cell_type": "code",
      "source": [
        "#@title Create chain on Graph\n",
        "\n",
        "from langchain_community.chains.graph_qa.cypher import GraphCypherQAChain\n",
        "from langchain_community.graphs import Neo4jGraph\n",
        "\n",
        "# You can create a free sandbox at https://sandbox.neo4j.com/\n",
        "NEO4J_URI = userdata.get('NEO4J_URI')\n",
        "NEO4J_USERNAME = userdata.get('NEO4J_USERNAME')\n",
        "NEO4J_PASSWORD = userdata.get('NEO4J_PASSWORD')\n",
        "\n",
        "graph = Neo4jGraph(url=NEO4J_URI, username=NEO4J_USERNAME, password=NEO4J_PASSWORD)\n",
        "\n",
        "chain = GraphCypherQAChain.from_llm(graph=graph, llm=llm, verbose=True)"
      ],
      "metadata": {
        "id": "CodJZ3jBlxH7"
      },
      "execution_count": null,
      "outputs": []
    },
    {
      "cell_type": "code",
      "source": [
        "#@title Add Gradio UI\n",
        "\n",
        "import gradio as gr\n",
        "\n",
        "def gradio_fn(msg):\n",
        "    response = chain.invoke({'query': msg})\n",
        "    return response['result']\n",
        "\n",
        "gr.Interface(\n",
        "    fn=gradio_fn,\n",
        "    inputs=[\"text\"],\n",
        "    outputs=[\"text\"],\n",
        "    theme=\"soft\"\n",
        "    ).launch(share=True, debug=True)"
      ],
      "metadata": {
        "id": "X0ymPKW_pEd_"
      },
      "execution_count": null,
      "outputs": []
    }
  ]
}