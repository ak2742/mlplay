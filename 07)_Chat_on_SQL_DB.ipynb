{
  "nbformat": 4,
  "nbformat_minor": 0,
  "metadata": {
    "colab": {
      "private_outputs": true,
      "provenance": [],
      "authorship_tag": "ABX9TyOh23ceIcBKQUWpS3NklKd/",
      "include_colab_link": true
    },
    "kernelspec": {
      "name": "python3",
      "display_name": "Python 3"
    },
    "language_info": {
      "name": "python"
    }
  },
  "cells": [
    {
      "cell_type": "markdown",
      "metadata": {
        "id": "view-in-github",
        "colab_type": "text"
      },
      "source": [
        "<a href=\"https://colab.research.google.com/github/ak2742/mlplay/blob/Fine-Tuning/07)_Chat_on_SQL_DB.ipynb\" target=\"_parent\"><img src=\"https://colab.research.google.com/assets/colab-badge.svg\" alt=\"Open In Colab\"/></a>"
      ]
    },
    {
      "cell_type": "code",
      "execution_count": null,
      "metadata": {
        "id": "76YEyjAASMTK"
      },
      "outputs": [],
      "source": [
        "#Code to mount Google Drive at Colab Notebook instance\n",
        "from google.colab import drive\n",
        "drive.mount('/content/drive')"
      ]
    },
    {
      "cell_type": "code",
      "source": [
        "#@title Install libraries\n",
        "\n",
        "!pip install -q langchain==0.1.2 langchain_experimental\n",
        "!pip install -q google-generativeai langchain-google-genai\n",
        "\n",
        "!pip install -q gradio"
      ],
      "metadata": {
        "id": "_gaS9WtWShOo"
      },
      "execution_count": null,
      "outputs": []
    },
    {
      "cell_type": "markdown",
      "source": [
        "## **Get Gemini Key from Secrets**\n",
        "Set GEMINI_KEY secret key at Google Colab and get that here to runn Google Gemini LLM. You can get Google Gemini Key from following link https://makersuite.google.com/app/apikey"
      ],
      "metadata": {
        "id": "Pv0pAAOXSjnz"
      }
    },
    {
      "cell_type": "code",
      "source": [
        "from google.colab import userdata\n",
        "GOOGLE_API_KEY = userdata.get('GEMINI_KEY')"
      ],
      "metadata": {
        "id": "TZa6sgSySl0V"
      },
      "execution_count": null,
      "outputs": []
    },
    {
      "cell_type": "code",
      "source": [
        "#@title DB interface\n",
        "\n",
        "from langchain_community.utilities import SQLDatabase\n",
        "\n",
        "db = SQLDatabase.from_uri(\"sqlite:////content/drive/MyDrive/Colab Notebooks/chinook.db\")\n",
        "print(db.dialect)\n",
        "print(db.get_usable_table_names())\n",
        "db.run(\"SELECT * FROM Artists LIMIT 10;\")"
      ],
      "metadata": {
        "id": "KwtUH71ISn_U"
      },
      "execution_count": null,
      "outputs": []
    },
    {
      "cell_type": "code",
      "source": [
        "#@title Create LLM and Prompt\n",
        "\n",
        "from langchain_google_genai import ChatGoogleGenerativeAI\n",
        "from langchain_core.prompts import PromptTemplate\n",
        "\n",
        "llm = ChatGoogleGenerativeAI(model=\"gemini-pro\", google_api_key=GOOGLE_API_KEY, convert_system_message_to_human=True, temperature=0.1)\n",
        "\n",
        "sql_prompt_template = \"\"\"\n",
        "Only use the following tables:\n",
        "{table_info}\n",
        "Question: {input}\n",
        "\n",
        "Given an input question, first create a syntactically correct\n",
        "{dialect} query to run.\n",
        "\n",
        "Relevant pieces of previous conversation:\n",
        "{history}\n",
        "\n",
        "(You do not need to use these pieces of information if not relevant)\n",
        "Dont include ```, ```sql and \\n in the output.\n",
        "\"\"\"\n",
        "prompt = PromptTemplate(\n",
        "        input_variables=[\"input\", \"table_info\", \"dialect\", \"history\"],\n",
        "        template=sql_prompt_template,\n",
        "    )"
      ],
      "metadata": {
        "id": "NOAWcinvSqwl"
      },
      "execution_count": null,
      "outputs": []
    },
    {
      "cell_type": "code",
      "source": [
        "#@title Create Chains\n",
        "\n",
        "from langchain_experimental.sql.base import SQLDatabaseChain\n",
        "from langchain.memory import ConversationBufferMemory\n",
        "from langchain_core.output_parsers import StrOutputParser\n",
        "\n",
        "memory = ConversationBufferMemory(memory_key=\"history\")\n",
        "\n",
        "db_chain = SQLDatabaseChain.from_llm(\n",
        "        llm, db, memory=memory, prompt=prompt, return_direct=True,  verbose=True\n",
        "    )"
      ],
      "metadata": {
        "id": "hBBbRljKTaH7"
      },
      "execution_count": null,
      "outputs": []
    },
    {
      "cell_type": "code",
      "source": [
        "output_prompt = PromptTemplate(\n",
        "        input_variables=[\"query\", \"result\"],\n",
        "        template=\"Based on the following information generate human redable response: {query},  {result}\",\n",
        "    )\n",
        "\n",
        "output_parser = StrOutputParser()\n",
        "chain = db_chain | output_prompt | llm | output_parser"
      ],
      "metadata": {
        "id": "mYX86t70cVuF"
      },
      "execution_count": null,
      "outputs": []
    },
    {
      "cell_type": "code",
      "source": [
        "#@title Add Gradio UI\n",
        "\n",
        "import gradio as gr\n",
        "\n",
        "def gradio_fn(msg, chat_history):\n",
        "    response = chain.invoke(msg)\n",
        "\n",
        "    chat_history.append((msg, response))\n",
        "    return response\n",
        "\n",
        "gr.ChatInterface(\n",
        "    gradio_fn,\n",
        "    examples=[[\"How many employees are there\"]],\n",
        "    chatbot=gr.Chatbot(height=300),\n",
        "    title=\"CSV QA\",\n",
        "    textbox=gr.Textbox(placeholder=\"Ask your question here\", container=False, scale=7),\n",
        "    theme=\"soft\",\n",
        "    description=\"Ask me any question on the given database\",\n",
        "    cache_examples=True,\n",
        "    retry_btn=None,\n",
        "    undo_btn=\"Delete Previous\",\n",
        "    clear_btn=\"Clear\",\n",
        "    ).launch(share=True, debug=True)"
      ],
      "metadata": {
        "id": "lqjqexuIVSLs"
      },
      "execution_count": null,
      "outputs": []
    }
  ]
}