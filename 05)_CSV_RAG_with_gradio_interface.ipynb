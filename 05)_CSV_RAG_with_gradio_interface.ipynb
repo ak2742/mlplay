{
  "nbformat": 4,
  "nbformat_minor": 0,
  "metadata": {
    "colab": {
      "private_outputs": true,
      "provenance": [],
      "gpuType": "T4",
      "authorship_tag": "ABX9TyMGmR2+S35sPVpBPxeNMLG4",
      "include_colab_link": true
    },
    "kernelspec": {
      "name": "python3",
      "display_name": "Python 3"
    },
    "language_info": {
      "name": "python"
    },
    "accelerator": "GPU"
  },
  "cells": [
    {
      "cell_type": "markdown",
      "metadata": {
        "id": "view-in-github",
        "colab_type": "text"
      },
      "source": [
        "<a href=\"https://colab.research.google.com/github/ak2742/mlplay/blob/Fine-Tuning/05)_CSV_RAG_with_gradio_interface.ipynb\" target=\"_parent\"><img src=\"https://colab.research.google.com/assets/colab-badge.svg\" alt=\"Open In Colab\"/></a>"
      ]
    },
    {
      "cell_type": "code",
      "execution_count": null,
      "metadata": {
        "id": "Znz_sjMJX4Iw"
      },
      "outputs": [],
      "source": [
        "#Code to mount Google Drive at Colab Notebook instance\n",
        "from google.colab import drive\n",
        "drive.mount('/content/drive')"
      ]
    },
    {
      "cell_type": "code",
      "source": [
        "# Workaround to avoid following error at notebook\n",
        "# NotImplementedError: A UTF-8 locale is required. Got ANSI_X3.4-1968\n",
        "import locale\n",
        "locale.getpreferredencoding = lambda: \"UTF-8\""
      ],
      "metadata": {
        "id": "59IsiOHKTtaw"
      },
      "execution_count": null,
      "outputs": []
    },
    {
      "cell_type": "code",
      "source": [
        "# Huggingface libraries to run LLM.\n",
        "!pip install -q -U transformers\n",
        "!pip install -q -U accelerate\n",
        "!pip install -q -U bitsandbytes\n",
        "!pip install -q -U huggingface_hub\n",
        "\n",
        "#LangChain related libraries\n",
        "!pip install -q -U langchain==0.1.2\n",
        "\n",
        "#Open-source pure-python PDF library capable of splitting, merging, cropping,\n",
        "#and transforming the pages of PDF files\n",
        "!pip install -q -U pypdf\n",
        "\n",
        "#Python framework for state-of-the-art sentence, text and image embeddings.\n",
        "!pip install -q -U sentence-transformers\n",
        "\n",
        "# FAISS Vector Databses specific Libraries\n",
        "!pip install -q -U faiss-gpu\n",
        "\n",
        "!pip install -q -U gradio"
      ],
      "metadata": {
        "id": "Dx9pPb9nTzFR"
      },
      "execution_count": null,
      "outputs": []
    },
    {
      "cell_type": "code",
      "source": [
        "import transformers\n",
        "from transformers import AutoModelForCausalLM, AutoTokenizer, AutoConfig, BitsAndBytesConfig\n",
        "import torch\n",
        "from langchain.llms import HuggingFacePipeline\n",
        "\n",
        "from langchain.document_loaders import PyPDFLoader\n",
        "from langchain.text_splitter import CharacterTextSplitter\n",
        "from langchain.embeddings import HuggingFaceEmbeddings\n",
        "from langchain.llms import HuggingFaceHub\n",
        "from langchain.vectorstores import Chroma\n",
        "from langchain.chains import ConversationalRetrievalChain\n",
        "\n",
        "\n",
        "device = 'cuda' if torch.cuda.is_available() else 'cpu'\n",
        "\n",
        "print(\"Device:\", device)\n",
        "if device == 'cuda':\n",
        "    print(torch.cuda.get_device_name(0))"
      ],
      "metadata": {
        "id": "htrowcAEUTbK"
      },
      "execution_count": null,
      "outputs": []
    },
    {
      "cell_type": "code",
      "source": [
        "origin_model_path = \"mistralai/Mistral-7B-Instruct-v0.1\"\n",
        "model_path = \"filipealmeida/Mistral-7B-Instruct-v0.1-sharded\"\n",
        "bnb_config = BitsAndBytesConfig \\\n",
        "              (\n",
        "                load_in_4bit=True,\n",
        "                bnb_4bit_use_double_quant=True,\n",
        "                bnb_4bit_quant_type=\"nf4\",\n",
        "                bnb_4bit_compute_dtype=torch.bfloat16,\n",
        "              )\n",
        "model = AutoModelForCausalLM.from_pretrained (model_path, trust_remote_code=True,\n",
        "                                              quantization_config=bnb_config,\n",
        "                                              device_map=\"auto\")\n",
        "tokenizer = AutoTokenizer.from_pretrained(origin_model_path)"
      ],
      "metadata": {
        "id": "5h8zfQrZUWru"
      },
      "execution_count": null,
      "outputs": []
    },
    {
      "cell_type": "code",
      "source": [
        "text_generation_pipeline = transformers.pipeline(\n",
        "    model=model,\n",
        "    tokenizer=tokenizer,\n",
        "    task=\"text-generation\",\n",
        "    eos_token_id=tokenizer.eos_token_id,\n",
        "    pad_token_id=tokenizer.eos_token_id,\n",
        "    repetition_penalty=1.1,\n",
        "    return_full_text=False,\n",
        "    max_new_tokens=300,\n",
        "    temperature = 0.3,\n",
        "    do_sample=True,\n",
        ")\n",
        "mistral_llm = HuggingFacePipeline(pipeline=text_generation_pipeline)"
      ],
      "metadata": {
        "id": "k91AIRA9UaiU"
      },
      "execution_count": null,
      "outputs": []
    },
    {
      "cell_type": "markdown",
      "source": [
        "# **Load CSV with langchain CSVLoader**"
      ],
      "metadata": {
        "id": "St_vz0okUfww"
      }
    },
    {
      "cell_type": "code",
      "source": [
        "from langchain_community.document_loaders.csv_loader import CSVLoader\n",
        "# Load the CSV file\n",
        "file_path = '/content/sample_data/california_housing_test.csv'\n",
        "loader = CSVLoader(file_path)\n",
        "data = loader.load()\n",
        "\n",
        "# Split the documents into smaller chunks\n",
        "#separator=\"\"\n",
        "text_splitter = CharacterTextSplitter(chunk_size=1000, chunk_overlap=0)\n",
        "chunked_docs  = text_splitter.split_documents(data)\n",
        "\n",
        "# Using HuggingFace embeddings\n",
        "embeddings = HuggingFaceEmbeddings()"
      ],
      "metadata": {
        "id": "hyvlnaS9Ue_i"
      },
      "execution_count": null,
      "outputs": []
    },
    {
      "cell_type": "code",
      "source": [
        "from langchain.vectorstores import FAISS\n",
        "db = FAISS.from_documents(chunked_docs,\n",
        "                          HuggingFaceEmbeddings(model_name='sentence-transformers/all-mpnet-base-v2'))\n",
        "\n",
        "\n",
        "# Connect query to FAISS index using a retriever\n",
        "retriever = db.as_retriever(\n",
        "    search_type=\"similarity\",\n",
        "    search_kwargs={'k': 4}\n",
        ")"
      ],
      "metadata": {
        "id": "qj7YsTObU8hc"
      },
      "execution_count": null,
      "outputs": []
    },
    {
      "cell_type": "code",
      "source": [
        "# Create the Conversational Retrieval Chain\n",
        "qa_chain = ConversationalRetrievalChain.from_llm(mistral_llm, retriever,return_source_documents=True)"
      ],
      "metadata": {
        "id": "yemGhoPDVEou"
      },
      "execution_count": null,
      "outputs": []
    },
    {
      "cell_type": "code",
      "source": [
        "#We will run an infinite loop to ask questions to LLM and retrieve answers untill the user wants to quit\n",
        "import sys\n",
        "chat_history = []\n",
        "query = input('Prompt: ')\n",
        "# Ask question related CSV file like Which country has highest green gas?\n",
        "result = qa_chain.invoke({'question': query, 'chat_history': chat_history})\n",
        "print('Answer: ' + result['answer'] + '\\n')\n",
        "chat_history.append((query, result['answer']))"
      ],
      "metadata": {
        "id": "348VsWm4VIiC"
      },
      "execution_count": null,
      "outputs": []
    },
    {
      "cell_type": "markdown",
      "source": [
        "# **Load CSV with Pandas**"
      ],
      "metadata": {
        "id": "h8IMS9yYVLx4"
      }
    },
    {
      "cell_type": "code",
      "source": [
        "!pip install -q -U pandas"
      ],
      "metadata": {
        "id": "JDh5rWGHVQTs"
      },
      "execution_count": null,
      "outputs": []
    },
    {
      "cell_type": "code",
      "source": [
        "import pandas as pd\n",
        "# Load the CSV file\n",
        "df = pd.read_csv(file_path)"
      ],
      "metadata": {
        "id": "lRoT7QZEVUvd"
      },
      "execution_count": null,
      "outputs": []
    },
    {
      "cell_type": "code",
      "source": [
        "from langchain.schema.document import Document\n",
        "text = \"\"\n",
        "for ind in df.index:\n",
        "    text += f\"{df['longitude'][ind]}  {df['latitude'][ind]}  {df['population'][ind]}\\n#####\\n\"\n",
        "#Converting text to LangChain documents so that StuffDocumentsChain can understand Input\n",
        "documents = Document(page_content=text, metadata={\"source\": \"local\"})"
      ],
      "metadata": {
        "id": "EnjFIleGVa8D"
      },
      "execution_count": null,
      "outputs": []
    },
    {
      "cell_type": "code",
      "source": [
        "from langchain.text_splitter import RecursiveCharacterTextSplitter\n",
        "# Split the documents into smaller chunks\n",
        "#separators=[\"\\n\\n\", \"\\n\", \" \", \"\"]\n",
        "text_splitter = RecursiveCharacterTextSplitter(chunk_size=1000, chunk_overlap=0, separators=\"[#####]\")\n",
        "chunked_docs  = text_splitter.split_documents([documents])\n",
        "\n",
        "# Using HuggingFace embeddings\n",
        "embeddings = HuggingFaceEmbeddings()"
      ],
      "metadata": {
        "id": "Ku_F_FmjViA_"
      },
      "execution_count": null,
      "outputs": []
    },
    {
      "cell_type": "code",
      "source": [
        "from langchain.vectorstores import FAISS\n",
        "db = FAISS.from_documents(chunked_docs,\n",
        "                          HuggingFaceEmbeddings(model_name='sentence-transformers/all-mpnet-base-v2'))\n",
        "\n",
        "\n",
        "# Connect query to FAISS index using a retriever\n",
        "retriever = db.as_retriever(\n",
        "    search_type=\"similarity\",\n",
        "    search_kwargs={'k': 4}\n",
        ")"
      ],
      "metadata": {
        "id": "5tjvwKZBVnpz"
      },
      "execution_count": null,
      "outputs": []
    },
    {
      "cell_type": "code",
      "source": [
        "# Create the Conversational Retrieval Chain\n",
        "qa_chain = ConversationalRetrievalChain.from_llm(mistral_llm, retriever,return_source_documents=True)"
      ],
      "metadata": {
        "id": "bIt8qKHFVuhx"
      },
      "execution_count": null,
      "outputs": []
    },
    {
      "cell_type": "code",
      "source": [
        "import sys\n",
        "chat_history = []\n",
        "query = input('Prompt: ')\n",
        "# Ask question related CSV file like Which country has highest green gas?\n",
        "result = qa_chain.invoke({'question': query, 'chat_history': chat_history})\n",
        "print('Answer: ' + result['answer'] + '\\n')\n",
        "chat_history.append((query, result['answer']))"
      ],
      "metadata": {
        "id": "EJJPoaPJVxl6"
      },
      "execution_count": null,
      "outputs": []
    },
    {
      "cell_type": "markdown",
      "source": [
        "# **Add Gradio UI**"
      ],
      "metadata": {
        "id": "__PXNWRTdA4x"
      }
    },
    {
      "cell_type": "code",
      "source": [
        "import gradio as gr\n",
        "\n",
        "def gradio_fn(msg, history):\n",
        "    result = qa_chain.invoke({'question': msg, 'chat_history': history})\n",
        "    history.append((msg, result['answer']))\n",
        "    return result['answer']\n"
      ],
      "metadata": {
        "id": "KYoNv90_ZopU"
      },
      "execution_count": null,
      "outputs": []
    },
    {
      "cell_type": "code",
      "source": [
        "\n",
        "gr.ChatInterface(\n",
        "    gradio_fn,\n",
        "    examples=[[\"which area has the highest population\"]],\n",
        "    chatbot=gr.Chatbot(height=300),\n",
        "    title=\"CSV QA\",\n",
        "    textbox=gr.Textbox(placeholder=\"Ask your question here\", container=False, scale=7),\n",
        "    theme=\"soft\",\n",
        "    description=\"Ask me any question on the CSV data\",\n",
        "    cache_examples=True,\n",
        "    retry_btn=None,\n",
        "    undo_btn=\"Delete Previous\",\n",
        "    clear_btn=\"Clear\",\n",
        "    ).launch(share=True, debug=True)\n",
        ""
      ],
      "metadata": {
        "id": "y9Ky_7akawV3"
      },
      "execution_count": null,
      "outputs": []
    }
  ]
}