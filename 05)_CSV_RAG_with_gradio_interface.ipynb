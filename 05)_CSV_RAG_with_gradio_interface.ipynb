{
  "cells": [
    {
      "cell_type": "markdown",
      "metadata": {
        "colab_type": "text",
        "id": "view-in-github"
      },
      "source": [
        "<a href=\"https://colab.research.google.com/github/ak2742/mlplay/blob/Fine-Tuning/05)_CSV_RAG_with_gradio_interface.ipynb\" target=\"_parent\"><img src=\"https://colab.research.google.com/assets/colab-badge.svg\" alt=\"Open In Colab\"/></a>"
      ]
    },
    {
      "cell_type": "code",
      "execution_count": null,
      "metadata": {
        "id": "Znz_sjMJX4Iw"
      },
      "outputs": [],
      "source": [
        "#Code to mount Google Drive at Colab Notebook instance\n",
        "from google.colab import drive\n",
        "drive.mount('/content/drive')"
      ]
    },
    {
      "cell_type": "code",
      "execution_count": null,
      "metadata": {
        "id": "59IsiOHKTtaw"
      },
      "outputs": [],
      "source": [
        "# Workaround to avoid following error at notebook\n",
        "# NotImplementedError: A UTF-8 locale is required. Got ANSI_X3.4-1968\n",
        "import locale\n",
        "locale.getpreferredencoding = lambda: \"UTF-8\""
      ]
    },
    {
      "cell_type": "code",
      "execution_count": null,
      "metadata": {
        "id": "Dx9pPb9nTzFR"
      },
      "outputs": [],
      "source": [
        "#@title Install all required libraries\n",
        "\n",
        "# Huggingface libraries to run LLM.\n",
        "!pip install -q -U transformers\n",
        "!pip install -q -U accelerate\n",
        "!pip install -q -U bitsandbytes\n",
        "!pip install -q -U huggingface_hub\n",
        "\n",
        "#LangChain related libraries\n",
        "!pip install -q -U langchain==0.1.2\n",
        "\n",
        "#Open-source pure-python PDF library capable of splitting, merging, cropping,\n",
        "#and transforming the pages of PDF files\n",
        "!pip install -q -U pypdf\n",
        "\n",
        "#Python framework for state-of-the-art sentence, text and image embeddings.\n",
        "!pip install -q -U sentence-transformers\n",
        "\n",
        "# FAISS Vector Databses specific Libraries\n",
        "!pip install -q -U faiss-gpu\n",
        "\n",
        "!pip install -q -U gradio"
      ]
    },
    {
      "cell_type": "code",
      "execution_count": null,
      "metadata": {
        "id": "htrowcAEUTbK"
      },
      "outputs": [],
      "source": [
        "#@title imports and Check for GPU\n",
        "\n",
        "import transformers\n",
        "from transformers import AutoModelForCausalLM, AutoTokenizer, AutoConfig, BitsAndBytesConfig\n",
        "import torch\n",
        "from langchain.llms import HuggingFacePipeline\n",
        "\n",
        "from langchain.document_loaders import PyPDFLoader\n",
        "from langchain.text_splitter import CharacterTextSplitter\n",
        "from langchain.embeddings import HuggingFaceEmbeddings\n",
        "from langchain.llms import HuggingFaceHub\n",
        "from langchain.vectorstores import Chroma\n",
        "from langchain.chains import ConversationalRetrievalChain\n",
        "\n",
        "\n",
        "device = 'cuda' if torch.cuda.is_available() else 'cpu'\n",
        "\n",
        "print(\"Device:\", device)\n",
        "if device == 'cuda':\n",
        "    print(torch.cuda.get_device_name(0))"
      ]
    },
    {
      "cell_type": "code",
      "execution_count": null,
      "metadata": {
        "id": "5h8zfQrZUWru"
      },
      "outputs": [],
      "source": [
        "#@title Create Model\n",
        "\n",
        "origin_model_path = \"mistralai/Mistral-7B-Instruct-v0.1\"\n",
        "model_path = \"filipealmeida/Mistral-7B-Instruct-v0.1-sharded\"\n",
        "bnb_config = BitsAndBytesConfig \\\n",
        "              (\n",
        "                load_in_4bit=True,\n",
        "                bnb_4bit_use_double_quant=True,\n",
        "                bnb_4bit_quant_type=\"nf4\",\n",
        "                bnb_4bit_compute_dtype=torch.bfloat16,\n",
        "              )\n",
        "model = AutoModelForCausalLM.from_pretrained (model_path, trust_remote_code=True,\n",
        "                                              quantization_config=bnb_config,\n",
        "                                              device_map=\"auto\")"
      ]
    },
    {
      "cell_type": "code",
      "execution_count": null,
      "metadata": {},
      "outputs": [],
      "source": [
        "tokenizer = AutoTokenizer.from_pretrained(origin_model_path)"
      ]
    },
    {
      "cell_type": "code",
      "execution_count": null,
      "metadata": {
        "id": "k91AIRA9UaiU"
      },
      "outputs": [],
      "source": [
        "#@title Creating pipelines to run LLM at Colab notebook\n",
        "\n",
        "text_generation_pipeline = transformers.pipeline(\n",
        "    model=model,\n",
        "    tokenizer=tokenizer,\n",
        "    task=\"text-generation\",\n",
        "    eos_token_id=tokenizer.eos_token_id,\n",
        "    pad_token_id=tokenizer.eos_token_id,\n",
        "    repetition_penalty=1.1,\n",
        "    return_full_text=False,\n",
        "    max_new_tokens=300,\n",
        "    temperature = 0.3,\n",
        "    do_sample=True,\n",
        ")\n",
        "mistral_llm = HuggingFacePipeline(pipeline=text_generation_pipeline)"
      ]
    },
    {
      "cell_type": "code",
      "execution_count": null,
      "metadata": {},
      "outputs": [],
      "source": [
        "#@title Fn to create database and Conversational Retrieval Chain\n",
        "\n",
        "from langchain.vectorstores import FAISS\n",
        "\n",
        "def create_qa_chain(chunked_docs, search_kwargs=4, return_source_documents=False):\n",
        "    # Using HuggingFace embeddings\n",
        "    embeddings = HuggingFaceEmbeddings()\n",
        "\n",
        "    # Create FAISS vector database\n",
        "    db = FAISS.from_documents(chunked_docs,\n",
        "                          HuggingFaceEmbeddings(model_name='sentence-transformers/all-mpnet-base-v2'))\n",
        "\n",
        "    # Connect query to FAISS index using a retriever\n",
        "    retriever = db.as_retriever(\n",
        "        search_type=\"similarity\",\n",
        "        search_kwargs={'k': search_kwargs}\n",
        "    )\n",
        "\n",
        "    # Create the Conversational Retrieval Chain\n",
        "    qa_chain = ConversationalRetrievalChain.from_llm(mistral_llm, retriever, return_source_documents)\n",
        "\n",
        "    return qa_chain"
      ]
    },
    {
      "cell_type": "markdown",
      "metadata": {},
      "source": [
        "# **Approach 1**"
      ]
    },
    {
      "cell_type": "code",
      "execution_count": null,
      "metadata": {
        "id": "hyvlnaS9Ue_i"
      },
      "outputs": [],
      "source": [
        "#@title Load CSV with langchain CSVLoader\n",
        "\n",
        "from langchain_community.document_loaders.csv_loader import CSVLoader\n",
        "# Load the CSV file\n",
        "file_path = '/content/sample_data/california_housing_test.csv'\n",
        "loader = CSVLoader(file_path)\n",
        "data = loader.load()\n",
        "\n",
        "# Split the documents into smaller chunks\n",
        "#separator=\"\"\n",
        "text_splitter = CharacterTextSplitter(chunk_size=1000, chunk_overlap=0)\n",
        "chunked_docs  = text_splitter.split_documents(data)\n",
        "\n",
        "# Create the Conversational Retrieval Chain\n",
        "qa_chain = create_qa_chain(chunked_docs)"
      ]
    },
    {
      "cell_type": "markdown",
      "metadata": {
        "id": "h8IMS9yYVLx4"
      },
      "source": [
        "# **Approach 2**"
      ]
    },
    {
      "cell_type": "code",
      "execution_count": null,
      "metadata": {
        "id": "JDh5rWGHVQTs"
      },
      "outputs": [],
      "source": [
        "!pip install -q -U pandas"
      ]
    },
    {
      "cell_type": "code",
      "execution_count": null,
      "metadata": {
        "id": "lRoT7QZEVUvd"
      },
      "outputs": [],
      "source": [
        "#@title Load CSV with Pandas\n",
        "\n",
        "import pandas as pd\n",
        "# Load the CSV file\n",
        "df = pd.read_csv(file_path)"
      ]
    },
    {
      "cell_type": "code",
      "execution_count": null,
      "metadata": {
        "id": "EnjFIleGVa8D"
      },
      "outputs": [],
      "source": [
        "from langchain.schema.document import Document\n",
        "text = \"\"\n",
        "\n",
        "#append CSV data to text\n",
        "for ind in df.index:\n",
        "    text += f\"{df['longitude'][ind]}  {df['latitude'][ind]}  {df['population'][ind]}\\n#####\\n\"\n",
        "#Converting text to LangChain documents so that StuffDocumentsChain can understand Input\n",
        "documents = Document(page_content=text, metadata={\"source\": \"local\"})"
      ]
    },
    {
      "cell_type": "code",
      "execution_count": null,
      "metadata": {
        "id": "Ku_F_FmjViA_"
      },
      "outputs": [],
      "source": [
        "from langchain.text_splitter import RecursiveCharacterTextSplitter\n",
        "# Split the documents into smaller chunks\n",
        "#separators=[\"\\n\\n\", \"\\n\", \" \", \"\"]\n",
        "text_splitter = RecursiveCharacterTextSplitter(chunk_size=1000, chunk_overlap=0, separators=\"[#####]\")\n",
        "chunked_docs  = text_splitter.split_documents([documents])\n",
        "\n",
        "# Create the Conversational Retrieval Chain\n",
        "qa_chain = create_qa_chain(chunked_docs)"
      ]
    },
    {
      "cell_type": "markdown",
      "metadata": {
        "id": "__PXNWRTdA4x"
      },
      "source": [
        "# **Add Gradio UI**"
      ]
    },
    {
      "cell_type": "code",
      "execution_count": null,
      "metadata": {
        "id": "KYoNv90_ZopU"
      },
      "outputs": [],
      "source": [
        "import gradio as gr\n",
        "\n",
        "def gradio_fn(msg, chat_history):\n",
        "    result = qa_chain.invoke({'question': msg, 'chat_history': chat_history})\n",
        "    history.append((msg, result['answer']))\n",
        "    return result['answer']\n",
        "\n",
        "gr.ChatInterface(\n",
        "    gradio_fn,\n",
        "    examples=[[\"which area has the highest population\"]],\n",
        "    chatbot=gr.Chatbot(height=300),\n",
        "    title=\"CSV QA\",\n",
        "    textbox=gr.Textbox(placeholder=\"Ask your question here\", container=False, scale=7),\n",
        "    theme=\"soft\",\n",
        "    description=\"Ask me any question on the CSV data\",\n",
        "    cache_examples=True,\n",
        "    retry_btn=None,\n",
        "    undo_btn=\"Delete Previous\",\n",
        "    clear_btn=\"Clear\",\n",
        "    ).launch(share=True, debug=True)"
      ]
    }
  ],
  "metadata": {
    "accelerator": "GPU",
    "colab": {
      "authorship_tag": "ABX9TyMGmR2+S35sPVpBPxeNMLG4",
      "gpuType": "T4",
      "include_colab_link": true,
      "private_outputs": true,
      "provenance": []
    },
    "kernelspec": {
      "display_name": "Python 3",
      "name": "python3"
    },
    "language_info": {
      "name": "python"
    }
  },
  "nbformat": 4,
  "nbformat_minor": 0
}
