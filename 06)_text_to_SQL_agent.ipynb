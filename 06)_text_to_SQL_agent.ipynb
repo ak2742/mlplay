{
  "nbformat": 4,
  "nbformat_minor": 0,
  "metadata": {
    "colab": {
      "private_outputs": true,
      "provenance": [],
      "authorship_tag": "ABX9TyP70Mni5EQ0BLLYKoQ57h/X",
      "include_colab_link": true
    },
    "kernelspec": {
      "name": "python3",
      "display_name": "Python 3"
    },
    "language_info": {
      "name": "python"
    }
  },
  "cells": [
    {
      "cell_type": "markdown",
      "metadata": {
        "id": "view-in-github",
        "colab_type": "text"
      },
      "source": [
        "<a href=\"https://colab.research.google.com/github/ak2742/mlplay/blob/Fine-Tuning/06)_text_to_SQL_agent.ipynb\" target=\"_parent\"><img src=\"https://colab.research.google.com/assets/colab-badge.svg\" alt=\"Open In Colab\"/></a>"
      ]
    },
    {
      "cell_type": "code",
      "execution_count": null,
      "metadata": {
        "id": "vLSZCthgJSiM"
      },
      "outputs": [],
      "source": [
        "#Code to mount Google Drive at Colab Notebook instance\n",
        "from google.colab import drive\n",
        "drive.mount('/content/drive')"
      ]
    },
    {
      "cell_type": "code",
      "source": [
        "#@title Install Langchain and Google Gemini related libraries\n",
        "\n",
        "!pip install -q langchain==0.1.2\n",
        "!pip install -q google-generativeai langchain-google-genai"
      ],
      "metadata": {
        "id": "5jJ88PtnJlOa"
      },
      "execution_count": null,
      "outputs": []
    },
    {
      "cell_type": "markdown",
      "source": [
        "## **Get Gemini Key from Secrets**\n",
        "Set GEMINI_KEY secret key at Google Colab and get that here to runn Google Gemini LLM. You can get Google Gemini Key from following link https://makersuite.google.com/app/apikey"
      ],
      "metadata": {
        "id": "fsEduSjtKBsY"
      }
    },
    {
      "cell_type": "code",
      "source": [
        "from google.colab import userdata\n",
        "GOOGLE_API_KEY = userdata.get('GEMINI_KEY')"
      ],
      "metadata": {
        "id": "aFJhfynuKCf7"
      },
      "execution_count": null,
      "outputs": []
    },
    {
      "cell_type": "code",
      "source": [
        "#@title DB interface\n",
        "\n",
        "from langchain_community.utilities import SQLDatabase\n",
        "\n",
        "db = SQLDatabase.from_uri(\"sqlite:////content/drive/MyDrive/Colab Notebooks/chinook.db\")\n",
        "print(db.dialect)\n",
        "print(db.get_usable_table_names())\n",
        "db.run(\"SELECT * FROM Artists LIMIT 10;\")"
      ],
      "metadata": {
        "id": "G3_Wz6lFKRWs"
      },
      "execution_count": null,
      "outputs": []
    },
    {
      "cell_type": "code",
      "source": [
        "#@title Convert question to SQL query\n",
        "\n",
        "import re\n",
        "from langchain.chains import create_sql_query_chain\n",
        "from langchain_google_genai import ChatGoogleGenerativeAI\n",
        "from langchain_core.prompts import ChatPromptTemplate\n",
        "\n",
        "llm = ChatGoogleGenerativeAI(model=\"gemini-pro\", google_api_key=GOOGLE_API_KEY, convert_system_message_to_human=True, temperature=0.1)\n",
        "chain = create_sql_query_chain(llm, db)\n",
        "\n",
        "response = chain.invoke({\"question\": \"How many employees are there\"})\n",
        "\n",
        "# Generate regex pattern to remove prefix and suffix\n",
        "regex_pattern = r'^```sql\\n|\\n```$'\n",
        "\n",
        "# Remove prefix and suffix using regex to get proper SQL query\n",
        "modified_response = re.sub(regex_pattern, '', response)\n",
        "\n",
        "# db.run(modified_response)\n",
        "print(modified_response)"
      ],
      "metadata": {
        "id": "qXtjGLdJK_ie"
      },
      "execution_count": null,
      "outputs": []
    },
    {
      "cell_type": "code",
      "source": [
        "#@title Execute SQL query\n",
        "\n",
        "from langchain_community.tools.sql_database.tool import QuerySQLDataBaseTool\n",
        "from langchain_core.prompts import PromptTemplate\n",
        "\n",
        "execute_query = QuerySQLDataBaseTool(db=db)\n",
        "\n",
        "template = '''Given an input question, first create a syntactically correct {dialect} query to run, then look at the results of the query and return the {top_k} answer.\n",
        "Use the following format:\n",
        "\n",
        "Question: \"Question here\"\n",
        "\"SQL Query to run\"\n",
        "SQLResult: \"Result of the SQLQuery\"\n",
        "Answer: \"Final answer here\"\n",
        "\n",
        "Only use the following tables:\n",
        "\n",
        "{table_info}.\n",
        "\n",
        "Provide SQL query as simple string without any markdown.\n",
        "\n",
        "Question: {input}'''\n",
        "prompt = PromptTemplate.from_template(template)\n",
        "\n",
        "write_query = create_sql_query_chain(llm, db, prompt)\n",
        "chain = write_query | execute_query\n",
        "chain.invoke({\"question\": \"How many employees are there\"})"
      ],
      "metadata": {
        "id": "dmODum62LaNw"
      },
      "execution_count": null,
      "outputs": []
    },
    {
      "cell_type": "code",
      "source": [
        "#@title Generate answer based on the query data\n",
        "\n",
        "from operator import itemgetter\n",
        "\n",
        "from langchain_core.output_parsers import StrOutputParser\n",
        "from langchain_core.prompts import PromptTemplate\n",
        "from langchain_core.runnables import RunnablePassthrough\n",
        "\n",
        "answer_prompt = PromptTemplate.from_template(\n",
        "\"\"\"Given the following user question, corresponding SQL query, and SQL result, answer the user question.\n",
        "\n",
        "Question: {question}\n",
        "{query}\n",
        "SQL Result: {result}\n",
        "Answer: \"\"\"\n",
        ")\n",
        "\n",
        "answer = answer_prompt | llm | StrOutputParser()\n",
        "chain = (\n",
        "    RunnablePassthrough.assign(query=write_query).assign(\n",
        "        result=itemgetter(\"query\") | execute_query\n",
        "    )\n",
        "    | answer\n",
        ")\n",
        "\n",
        "chain.invoke({\"question\": \"How many employees are there\"})"
      ],
      "metadata": {
        "id": "mPvAO3MCL1cl"
      },
      "execution_count": null,
      "outputs": []
    },
    {
      "cell_type": "code",
      "source": [
        "#@title create agent\n",
        "\n",
        "from langchain_community.agent_toolkits import create_sql_agent\n",
        "from langchain.agents.agent_types import AgentType\n",
        "from langchain.agents.agent_toolkits import SQLDatabaseToolkit\n",
        "\n",
        "agent_executor = create_sql_agent(llm,\n",
        "                                  toolkit=SQLDatabaseToolkit(db=db, llm=llm),\n",
        "                                  agent_type=AgentType.ZERO_SHOT_REACT_DESCRIPTION,\n",
        "                                  verbose=True)"
      ],
      "metadata": {
        "id": "d0iUqzlUMfSg"
      },
      "execution_count": null,
      "outputs": []
    },
    {
      "cell_type": "code",
      "source": [
        "#@title run agent\n",
        "\n",
        "agent_executor.invoke(\n",
        "    {\n",
        "        \"input\": \"List the total sales per country. Which country's customers spent the most?\"\n",
        "    }\n",
        ")"
      ],
      "metadata": {
        "id": "ToBrDECBM60r"
      },
      "execution_count": null,
      "outputs": []
    }
  ]
}